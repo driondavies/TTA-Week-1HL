{
 "cells": [
  {
   "cell_type": "code",
   "execution_count": 9,
   "metadata": {},
   "outputs": [],
   "source": [
    "numbers = open(\"Numbers\", \"w\")\n",
    "for i in range (4):\n",
    "    input_number = input(\"Enter a number: \")\n",
    "    numbers.write(str(input_number))\n",
    "    if i == 3:\n",
    "        \" \"\n",
    "    else:\n",
    "        numbers.write(\", \")\n",
    "    i=i+1\n",
    "numbers.close()"
   ]
  },
  {
   "cell_type": "code",
   "execution_count": 1,
   "metadata": {},
   "outputs": [
    {
     "name": "stdout",
     "output_type": "stream",
     "text": [
      "Unfortunately you did not acheive your target grade of B with a score of 78  keep pushing yourself to meet your target grade\n"
     ]
    }
   ],
   "source": [
    "input_mark=int(input(\"Hello, to start enter score: \"))\n",
    "target_grade = (input(\"Please enter your target grade \"))\n",
    "\n",
    "def grade_mark(input_mark):\n",
    "    if target_grade == \"A\" and input_mark > 92 and input_mark <=100 :\n",
    "        output = print(\"Congratulations on meeting your target grade A with the score of\", input_mark) \n",
    "    elif target_grade == \"A\" and input_mark < 92:\n",
    "        output = print(\"Unfortunatly you did not acheive your target grade A with your score of\", input_mark, \" keep pushing yourself to meet your target grade\")\n",
    "    elif target_grade == \"A-\" and input_mark > 89 and input_mark <= 92:\n",
    "        output = print(\"Congratulations on meeting your target grade A- with the score of\", input_mark) \n",
    "    elif target_grade == \"A-\" and input_mark > 92 and input_mark <=100:\n",
    "        output= print(\"Congratulations for exceeding your target grade A- with the score of\", input_mark)\n",
    "    elif target_grade == \"A-\" and input_mark < 89:\n",
    "        output = print(\"Unfortunatly you did not acheive your target grade A- with your score of\", input_mark, \" keep pushing yourself to meet your target grade\")\n",
    "    elif target_grade== \"B+\" and input_mark > 86 and input_mark <= 89:\n",
    "        output = print(\"Congratulations on meeting your target grade B+ with the score of\", input_mark)\n",
    "    elif target_grade ==  \"B+\" and input_mark > 89:\n",
    "        output = print(\"Congratulations on exceeding you target grade of B+ with a score of\", input_mark)\n",
    "    elif target_grade == \"B+\" and input_mark <= 86:\n",
    "        output = print(\"Unfortunately you did not acheive your target grade of B+ with a score of\", input_mark, \" keep pushing yourself to meet your target grade\")\n",
    "    elif target_grade == \"B\" and input_mark > 82 and input_mark <= 86:\n",
    "        output = print(\"Congratulation on meeting your target grade of B with a score of\", input_mark)\n",
    "    elif target_grade == \"B\" and input_mark > 86:\n",
    "        output = print(\"Congratulation on exceeding your target grade of B with a score of\", input_mark)\n",
    "    elif target_grade == \"B\" and input_mark < 82:\n",
    "        output = print(\"Unfortunately you did not acheive your target grade of B with a score of\", input_mark, \" keep pushing yourself to meet your target grade\")\n",
    "    elif target_grade == \"B-\" and input_mark > 79 and input_mark <= 82:\n",
    "        output = print(\"Congatulations on meeting your target grade of B- with a score of\", input_mark)\n",
    "    elif target_grade == \"B-\" and input_mark > 82:\n",
    "        output = print(\"Congratulations on exceeding your target grade of B- with a score of\", input_mark)\n",
    "    elif target_grade ==\"B-\" and target_grade < 79:\n",
    "        output = print(\"Unfortunately  you did not acheive your target grade of B- with a score of\", input_mark, \" keep pushing yourelf to meet yout target grade\")\n",
    "    elif target_grade == \"C+\" and input_mark > 76 and input_mark <= 79:\n",
    "        output = print(\"Congratulations on meeting your target grade of C+ with a score of\", input_mark)\n",
    "    elif target_grade == \"C+\" and input_mark > 79:\n",
    "        output = print(\"Congratulations on exceeding your target grade of C+ with a score of\", input_mark)\n",
    "    elif target_grade == \"C+\" and input_mark < 76:\n",
    "        output = print(\"Unfortunately you did not acheive your target grade of C+ with a score of\", input_mark, \" keep pushing yourslef to meet your target grade\")\n",
    "    elif target_grade == \"C\" and input_mark > 72 and input_mark <= 76:\n",
    "        output = print(\"Congratulations on meeting your target grade of C with a score of\", input_mark)\n",
    "    elif target_grade == \"C\" and input_mark > 76:\n",
    "        output = print(\"Congratulations on exceeding your target grade of C with a score of\", input_mark)\n",
    "    elif target_grade == \"C\" and target_grade < 72:\n",
    "        output= print(\"Unfortunately you did not acheieve your target grade of C with a score of\", input_mark, \" keep pushing yourself to meet your target grade\")\n",
    "    elif target_grade == \"C-\" and input_mark > 69 and input_mark <= 72:\n",
    "        output = print(\"Congratulations on meeting your target grade of C- with a score of\", input_mark)\n",
    "    elif target_grade == \"C-\" and input_mark < 69:\n",
    "        output = print(\"Unfortunately you did not acheive your target grade of C- with a score of\", input_mark, \" keep pushing yourself to meet your target grade\")\n",
    "    elif target_grade == \"D+\" and input_mark > 66 and input_mark <= 69:\n",
    "        output = print(\"Congratulations on meeting your target grade with a score of D+\", input_mark)\n",
    "    elif target_grade == \"D+\" and input_mark > 69:\n",
    "        output = print(\"Congratulations on exceeding your target grade of D+ with a score of\", input_mark)\n",
    "    elif target_grade == \"D+\" and input_mark < 66:\n",
    "        output = print(\"Unfortunately you did not acheive your target grade of D+ with a score of\", input_mark, \" keep pushing yourself to meet your target grade\")\n",
    "    elif target_grade == \"D\" and input_mark > 62 and input_mark <= 66:\n",
    "        output = print(\"Congratulations on meeting your target grade of D with a score of\", input_mark)\n",
    "    elif target_grade == \"D\" and input_mark > 66:\n",
    "        output = print(\"Congratulations on exceeding your target grade of D with a score of\", input_mark)\n",
    "    elif target_grade == \"D\" and input_mark < 62:\n",
    "        output = print(\"Unfortunately you did not acheive your target grade of D with a score of\", input_mark, \" keep pushing yourself to meet our target grade\")\n",
    "    elif target_grade == \"D-\" and input_mark > 59 and input_mark <= 62:\n",
    "        output = print(\"Congratulations on meeting your target grade of D- with a score of\", input_mark)\n",
    "    elif target_grade == \"D-\" and input_mark > 62:\n",
    "        output = print(\"Congratulations on exceeding your target grade of D- with a score of\", input_mark)\n",
    "    elif target_grade == \"D-\" and input_mark < 59:\n",
    "        output = print(\"Unfortunately you did not chaeive your target grade of D- with a score of\", input_mark, \" keep pushnig yourself to meet target grade\")\n",
    "    elif target_grade == \"F\" and input_mark < 59:\n",
    "        output = print(\"You acheived your target grade of F with a score of\", input_mark)\n",
    "    elif target_grade == \"F\" and input_mark >59:\n",
    "        output = print (\"Good work, you exceeded your target grade of F with a score of\", input_mark)\n",
    "    else:\n",
    "        output = print(\"Enter a score from 0 to 100 and a target grade of A, A-, B+, B, B-, C+, C, C-, D+, D, D-, F\")\n",
    "    return output\n",
    "grade_mark(input_mark)\n"
   ]
  },
  {
   "cell_type": "code",
   "execution_count": 5,
   "metadata": {},
   "outputs": [
    {
     "name": "stdout",
     "output_type": "stream",
     "text": [
      "[0 1 2 3 4 5 6 7 8 9]\n"
     ]
    }
   ],
   "source": [
    "import numpy as np\n",
    "\n",
    "list = np.arange(10)\n",
    "\n",
    "print(list)"
   ]
  },
  {
   "cell_type": "code",
   "execution_count": 17,
   "metadata": {},
   "outputs": [
    {
     "name": "stdout",
     "output_type": "stream",
     "text": [
      "[[1. 1. 1.]\n",
      " [1. 1. 1.]\n",
      " [1. 1. 1.]]\n"
     ]
    }
   ],
   "source": [
    "booleanTrue = np.ones(9).reshape(3,3)\n",
    "print(booleanTrue)"
   ]
  },
  {
   "cell_type": "code",
   "execution_count": 37,
   "metadata": {},
   "outputs": [
    {
     "name": "stdout",
     "output_type": "stream",
     "text": [
      "1\n",
      "3\n",
      "5\n",
      "7\n",
      "9\n"
     ]
    }
   ],
   "source": [
    "alist = np.arange(1,11)\n",
    "for i in range(len(alist)):\n",
    "    if alist[i] % 2 !=0:\n",
    "        print(alist[i])\n",
    "    else:\n",
    "        \" \""
   ]
  },
  {
   "cell_type": "code",
   "execution_count": 39,
   "metadata": {},
   "outputs": [
    {
     "name": "stdout",
     "output_type": "stream",
     "text": [
      "-1\n",
      "2\n",
      "-1\n",
      "4\n",
      "-1\n",
      "6\n",
      "-1\n",
      "8\n",
      "-1\n",
      "10\n"
     ]
    }
   ],
   "source": [
    "\n",
    "for i in range(len(alist)):\n",
    "    if alist[i] % 2 !=0:\n",
    "        print(\"-1\")\n",
    "    else:\n",
    "        print(alist[i])"
   ]
  },
  {
   "cell_type": "code",
   "execution_count": 44,
   "metadata": {},
   "outputs": [
    {
     "name": "stdout",
     "output_type": "stream",
     "text": [
      "[[ 0  1  2  3  4  5]\n",
      " [ 6  7  8  9 10 11]]\n"
     ]
    }
   ],
   "source": [
    "reshaped = np.arange(12).reshape(2,6)\n",
    "print(reshaped)"
   ]
  },
  {
   "cell_type": "code",
   "execution_count": 67,
   "metadata": {},
   "outputs": [
    {
     "name": "stdout",
     "output_type": "stream",
     "text": [
      "[[[ 1  2  3]\n",
      "  [ 4  5  6]\n",
      "  [ 7  8  9]]\n",
      "\n",
      " [[10 11 12]\n",
      "  [13 14 15]\n",
      "  [16 17 18]]]\n",
      "[603 648 693]\n",
      "[ 270  648 1026]\n"
     ]
    }
   ],
   "source": [
    "a = np.arange(1,10).reshape(3,3)\n",
    "b = np.arange(10,19).reshape(3,3)\n",
    "abstack = np.stack([a,b])\n",
    "abdot = np.dot(a,b)\n",
    "absum0 = np.sum(abdot,axis=0)\n",
    "absum1 = np.sum(abdot, axis=1)\n",
    "print(abstack)\n",
    "print(absum0)\n",
    "print(absum1)\n"
   ]
  },
  {
   "cell_type": "code",
   "execution_count": 139,
   "metadata": {},
   "outputs": [
    {
     "name": "stdout",
     "output_type": "stream",
     "text": [
      "[array([1, 1, 1, 2, 2, 2, 3, 3, 3]), [array([1, 2, 3]), array([1, 2, 3]), array([1, 2, 3])]]\n"
     ]
    }
   ],
   "source": [
    "x = np.arange(1,4)\n",
    "xsequence=[]\n",
    "y = np.repeat(x,3)\n",
    "for i in range (len(x)):\n",
    "    xsequence.append(x)\n",
    "print([y,xsequence])"
   ]
  },
  {
   "cell_type": "code",
   "execution_count": 143,
   "metadata": {},
   "outputs": [
    {
     "name": "stdout",
     "output_type": "stream",
     "text": [
      "[array([1, 2, 3, 4, 5, 6, 7, 8, 9])]\n",
      "[[4, 5, 6]]\n",
      "15\n"
     ]
    }
   ],
   "source": [
    "a=[1,2,3,4,5]\n",
    "b=[4,5,6,7,8,9]\n",
    "ab=np.unique(a+b)\n",
    "ab37=[]\n",
    "for i in range(len(ab)):\n",
    "    if int(ab[i])>3 and int(ab[i])<7:\n",
    "        ab37.append(ab[i])\n",
    "print([ab])\n",
    "print([ab37])\n",
    "ab37sum=np.sum(ab37)\n",
    "print(ab37sum)"
   ]
  }
 ],
 "metadata": {
  "interpreter": {
   "hash": "aee8b7b246df8f9039afb4144a1f6fd8d2ca17a180786b69acc140d282b71a49"
  },
  "kernelspec": {
   "display_name": "Python 3.10.0 64-bit",
   "name": "python3"
  },
  "language_info": {
   "codemirror_mode": {
    "name": "ipython",
    "version": 3
   },
   "file_extension": ".py",
   "mimetype": "text/x-python",
   "name": "python",
   "nbconvert_exporter": "python",
   "pygments_lexer": "ipython3",
   "version": "3.10.0"
  },
  "orig_nbformat": 4
 },
 "nbformat": 4,
 "nbformat_minor": 2
}
