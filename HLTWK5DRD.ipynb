{
 "cells": [
  {
   "cell_type": "code",
   "execution_count": 1,
   "metadata": {},
   "outputs": [
    {
     "name": "stdout",
     "output_type": "stream",
     "text": [
      "Collecting altair\n",
      "  Downloading altair-4.1.0-py3-none-any.whl (727 kB)\n",
      "\u001b[K     |████████████████████████████████| 727 kB 2.0 MB/s \n",
      "\u001b[?25hCollecting vega_datasets\n",
      "  Downloading vega_datasets-0.9.0-py3-none-any.whl (210 kB)\n",
      "\u001b[K     |████████████████████████████████| 210 kB 2.1 MB/s \n",
      "\u001b[?25hRequirement already satisfied: numpy in /Library/Frameworks/Python.framework/Versions/3.10/lib/python3.10/site-packages (from altair) (1.21.3)\n",
      "Requirement already satisfied: pandas>=0.18 in /Library/Frameworks/Python.framework/Versions/3.10/lib/python3.10/site-packages (from altair) (1.3.4)\n",
      "Requirement already satisfied: entrypoints in /Library/Frameworks/Python.framework/Versions/3.10/lib/python3.10/site-packages (from altair) (0.3)\n",
      "Collecting jsonschema\n",
      "  Downloading jsonschema-4.2.1-py3-none-any.whl (69 kB)\n",
      "\u001b[K     |████████████████████████████████| 69 kB 2.3 MB/s \n",
      "\u001b[?25hCollecting jinja2\n",
      "  Downloading Jinja2-3.0.3-py3-none-any.whl (133 kB)\n",
      "\u001b[K     |████████████████████████████████| 133 kB 2.0 MB/s \n",
      "\u001b[?25hCollecting toolz\n",
      "  Downloading toolz-0.11.2-py3-none-any.whl (55 kB)\n",
      "\u001b[K     |████████████████████████████████| 55 kB 2.0 MB/s \n",
      "\u001b[?25hRequirement already satisfied: python-dateutil>=2.7.3 in /Library/Frameworks/Python.framework/Versions/3.10/lib/python3.10/site-packages (from pandas>=0.18->altair) (2.8.2)\n",
      "Requirement already satisfied: pytz>=2017.3 in /Library/Frameworks/Python.framework/Versions/3.10/lib/python3.10/site-packages (from pandas>=0.18->altair) (2021.3)\n",
      "Requirement already satisfied: six>=1.5 in /Library/Frameworks/Python.framework/Versions/3.10/lib/python3.10/site-packages (from python-dateutil>=2.7.3->pandas>=0.18->altair) (1.16.0)\n",
      "Collecting MarkupSafe>=2.0\n",
      "  Downloading MarkupSafe-2.0.1-cp310-cp310-macosx_10_9_x86_64.whl (14 kB)\n",
      "Collecting attrs>=17.4.0\n",
      "  Downloading attrs-21.2.0-py2.py3-none-any.whl (53 kB)\n",
      "\u001b[K     |████████████████████████████████| 53 kB 1.2 MB/s \n",
      "\u001b[?25hCollecting pyrsistent!=0.17.0,!=0.17.1,!=0.17.2,>=0.14.0\n",
      "  Downloading pyrsistent-0.18.0.tar.gz (104 kB)\n",
      "\u001b[K     |████████████████████████████████| 104 kB 2.3 MB/s \n",
      "\u001b[?25h  Installing build dependencies ... \u001b[?25ldone\n",
      "\u001b[?25h  Getting requirements to build wheel ... \u001b[?25ldone\n",
      "\u001b[?25h    Preparing wheel metadata ... \u001b[?25ldone\n",
      "\u001b[?25hBuilding wheels for collected packages: pyrsistent\n",
      "  Building wheel for pyrsistent (PEP 517) ... \u001b[?25ldone\n",
      "\u001b[?25h  Created wheel for pyrsistent: filename=pyrsistent-0.18.0-cp310-cp310-macosx_10_9_universal2.whl size=82050 sha256=8219025cbd6cef0b15f153be1c7b63fbcf8fcf625774feec06b9f82d03b3389d\n",
      "  Stored in directory: /Users/apple/Library/Caches/pip/wheels/bf/ee/17/b548a960bb9e20daf7987f316c326e8a368603809ace3b2374\n",
      "Successfully built pyrsistent\n",
      "Installing collected packages: pyrsistent, MarkupSafe, attrs, toolz, jsonschema, jinja2, vega-datasets, altair\n",
      "\u001b[33m  WARNING: The script jsonschema is installed in '/Library/Frameworks/Python.framework/Versions/3.10/bin' which is not on PATH.\n",
      "  Consider adding this directory to PATH or, if you prefer to suppress this warning, use --no-warn-script-location.\u001b[0m\n",
      "Successfully installed MarkupSafe-2.0.1 altair-4.1.0 attrs-21.2.0 jinja2-3.0.3 jsonschema-4.2.1 pyrsistent-0.18.0 toolz-0.11.2 vega-datasets-0.9.0\n",
      "\u001b[33mWARNING: You are using pip version 21.2.3; however, version 21.3.1 is available.\n",
      "You should consider upgrading via the '/usr/local/bin/python3 -m pip install --upgrade pip' command.\u001b[0m\n",
      "Note: you may need to restart the kernel to use updated packages.\n"
     ]
    }
   ],
   "source": [
    "pip install altair vega_datasets"
   ]
  }
 ],
 "metadata": {
  "interpreter": {
   "hash": "aee8b7b246df8f9039afb4144a1f6fd8d2ca17a180786b69acc140d282b71a49"
  },
  "kernelspec": {
   "display_name": "Python 3.10.0 64-bit",
   "language": "python",
   "name": "python3"
  },
  "language_info": {
   "codemirror_mode": {
    "name": "ipython",
    "version": 3
   },
   "file_extension": ".py",
   "mimetype": "text/x-python",
   "name": "python",
   "nbconvert_exporter": "python",
   "pygments_lexer": "ipython3",
   "version": "3.10.0"
  },
  "orig_nbformat": 4
 },
 "nbformat": 4,
 "nbformat_minor": 2
}
