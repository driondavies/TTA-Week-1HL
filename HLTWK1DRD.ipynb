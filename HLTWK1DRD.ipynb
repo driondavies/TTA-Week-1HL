{
 "cells": [
  {
   "cell_type": "code",
   "execution_count": null,
   "metadata": {},
   "outputs": [
    {
     "name": "stdout",
     "output_type": "stream",
     "text": [
      "Hello World\n"
     ]
    }
   ],
   "source": [
    "print(\"Hello World\")"
   ]
  },
  {
   "cell_type": "code",
   "execution_count": null,
   "metadata": {},
   "outputs": [
    {
     "name": "stdout",
     "output_type": "stream",
     "text": [
      "Alfyou have not guessed correctly\n"
     ]
    }
   ],
   "source": [
    "import random\n",
    "randomNum = random.randint(1,10)\n",
    "userName = input(\"Hello, to start enter your name :\")\n",
    "userGuess = int(input(\"A random number between 1 and 10 has been selected, guess what this number is\"))\n",
    "if randomNum == userGuess:\n",
    "    print(\"Amazing stuff \" + userName + \"! you have correctly guessed the random number\")\n",
    "else:\n",
    "    print(userName + \" you have not guessed correctly, try again\")\n"
   ]
  },
  {
   "cell_type": "code",
   "execution_count": null,
   "metadata": {},
   "outputs": [
    {
     "name": "stdout",
     "output_type": "stream",
     "text": [
      "My Grand dad lived to a hundred and one but left behind 2 children\n"
     ]
    }
   ],
   "source": [
    "userNumb =int(input(\"Hello!, what is your favourite number between 1 and 100 ? \"))\n",
    "if userNumb % 2 == 0 and userNumb > 1 and userNumb < 100:\n",
    "    print(\"I don't like Odd Numbers so I subtract 1 to get Even\")\n",
    "elif userNumb == 1 or userNumb == 100:\n",
    "    print(\"My Grand dad lived to a hundred and one but left behind 2 children\")\n",
    "else:\n",
    "    print(\"What are the odds of making it through high school math rememebring only even numbers?\")\n"
   ]
  },
  {
   "cell_type": "code",
   "execution_count": null,
   "metadata": {},
   "outputs": [
    {
     "name": "stdout",
     "output_type": "stream",
     "text": [
      "Your favourite meal is Rice and Chicken withSalad as starter and Youghurt as dessert served with a glass of Fresh Mellon Juice\n"
     ]
    }
   ],
   "source": [
    "favouriteStarter=input(\"Hello, what is your favourite Starter?\")\n",
    "favouriteMainCourse=input(\"Favourite Main Course?\")\n",
    "favouriteDessert=input(\"Favourite Dessert?\")\n",
    "favouriteDrink=input(\"Favourite Drink?\")\n",
    "print(\"Your favourite meal is \" + favouriteMainCourse + \" with \" + favouriteStarter + \" as starter and \" + favouriteDessert + \" as dessert served with a glass of \" + favouriteDrink)\n"
   ]
  },
  {
   "cell_type": "code",
   "execution_count": 22,
   "metadata": {},
   "outputs": [
    {
     "name": "stdout",
     "output_type": "stream",
     "text": [
      "Depreciated Cost after  1  year(s) is:  £1800.0\n",
      "Depreciated Cost after  2  year(s) is:  £1620.0\n",
      "Depreciated Cost after  3  year(s) is:  £1458.0\n",
      "Depreciated Cost after  4  year(s) is:  £1312.2\n",
      "Depreciated Cost after  5  year(s) is:  £1180.98\n",
      "Depreciated Cost after  6  year(s) is:  £1062.882\n"
     ]
    }
   ],
   "source": [
    "def depreciation():\n",
    "    initialCost = 2000\n",
    "    depreciatedCost = initialCost * 0.9\n",
    "    i = 1\n",
    "\n",
    "    while depreciatedCost > 1000:\n",
    "        print(\"Depreciated Cost after \", i, \" year(s) is: \", \"£\"+ str(depreciatedCost))\n",
    "        depreciatedCost = depreciatedCost * 0.9\n",
    "        i=i+1\n",
    "depreciation()\n"
   ]
  },
  {
   "cell_type": "code",
   "execution_count": 68,
   "metadata": {},
   "outputs": [
    {
     "name": "stdout",
     "output_type": "stream",
     "text": [
      "The result of the calculation is 10\n"
     ]
    }
   ],
   "source": [
    "firstUserNumber = int(input(\"Hello, to start enter your first Number: \"))\n",
    "secondUserNumber = int(input(\"Enter Second Number:\"))\n",
    "operatorChoice = input(\"Please Enter A to add, S to Subtract, D to Divide, M to Multiply ans ^ to square (to the power of) of the two number entered\")\n",
    "def calc(inputFirstUserNumber,inputSecondUserNumber):\n",
    "    if operatorChoice == \"A\":\n",
    "        calculate = firstUserNumber + secondUserNumber\n",
    "    elif operatorChoice == \"S\":\n",
    "        calculate = firstUserNumber - secondUserNumber\n",
    "    elif operatorChoice == \"D\":\n",
    "        calculate = firstUserNumber / secondUserNumber\n",
    "    elif operatorChoice == \"M\":\n",
    "        calculate = firstUserNumber * secondUserNumber\n",
    "    elif operatorChoice == \"^\":\n",
    "        calculate = firstUserNumber ** secondUserNumber\n",
    "    else:\n",
    "        print(\"Please select a valid operator, remember this is case sentive\")\n",
    "    print(\"The result of the calculation is\", calculate)\n",
    "inputFirstUserNumber = firstUserNumber\n",
    "inputSecondUserNumber = secondUserNumber\n",
    "calc(inputFirstUserNumber, inputSecondUserNumber)\n",
    "\n"
   ]
  },
  {
   "cell_type": "code",
   "execution_count": 42,
   "metadata": {},
   "outputs": [
    {
     "name": "stdout",
     "output_type": "stream",
     "text": [
      "Depreciated Cost after  1  year(s) is:  £2800.0\n",
      "Depreciated Cost after  2  year(s) is:  £2240.0\n",
      "Depreciated Cost after  3  year(s) is:  £1792.0\n",
      "Depreciated Cost after  4  year(s) is:  £1433.6000000000001\n",
      "Depreciated Cost after  5  year(s) is:  £1146.88\n"
     ]
    }
   ],
   "source": [
    "initialInputCost = float(input(\"Hello, to start enter the initial cost\"))\n",
    "depreciationInputRate = int(input(\"Enter the annual rate of depreciation \"))\n",
    "    \n",
    "def depreciation(userInitialCost, depreciationRate):\n",
    "    depreciatingCost = initialInputCost * (1 -  depreciationInputRate/100)\n",
    "    depreciationIteration = 1\n",
    "    while depreciatingCost > 1000:\n",
    "        output = print(\"Depreciated Cost after \", depreciationIteration, \" year(s) is: \", \"£\"+ str(depreciatingCost))\n",
    "        depreciatingCost = depreciatingCost * (1 - depreciationRate/100)\n",
    "        depreciationIteration = depreciationIteration + 1    \n",
    "    return output\n",
    "\n",
    "depreciation(initialInputCost,depreciationInputRate)"
   ]
  },
  {
   "cell_type": "code",
   "execution_count": 1,
   "metadata": {},
   "outputs": [
    {
     "name": "stdout",
     "output_type": "stream",
     "text": [
      "37  is a prime number\n"
     ]
    }
   ],
   "source": [
    "numb = int(input(\"Hello, enter a number to start:\"))\n",
    "if numb > 1:\n",
    "    for i in range(2, numb):\n",
    "        if (numb %i ) == 0:\n",
    "            print(numb, \" is not a prime number\")\n",
    "    else:\n",
    "        print(numb, \" is a prime number\")"
   ]
  }
 ],
 "metadata": {
  "interpreter": {
   "hash": "aee8b7b246df8f9039afb4144a1f6fd8d2ca17a180786b69acc140d282b71a49"
  },
  "kernelspec": {
   "display_name": "Python 3.10.0 64-bit",
   "name": "python3"
  },
  "language_info": {
   "codemirror_mode": {
    "name": "ipython",
    "version": 3
   },
   "file_extension": ".py",
   "mimetype": "text/x-python",
   "name": "python",
   "nbconvert_exporter": "python",
   "pygments_lexer": "ipython3",
   "version": "3.10.0"
  },
  "orig_nbformat": 4
 },
 "nbformat": 4,
 "nbformat_minor": 2
}
